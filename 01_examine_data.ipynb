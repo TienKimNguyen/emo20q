{
  "cells": [
    {
      "cell_type": "code",
      "execution_count": 1,
      "id": "lesbian-finger",
      "metadata": {
        "id": "lesbian-finger",
        "outputId": "6f9e05b8-d2cf-443d-d7fd-4da77e95d6b0",
        "colab": {
          "base_uri": "https://localhost:8080/"
        }
      },
      "outputs": [
        {
          "output_type": "stream",
          "name": "stdout",
          "text": [
            "Cloning into 'emo20q'...\n",
            "remote: Enumerating objects: 190, done.\u001b[K\n",
            "remote: Counting objects: 100% (190/190), done.\u001b[K\n",
            "remote: Compressing objects: 100% (142/142), done.\u001b[K\n",
            "remote: Total 190 (delta 108), reused 115 (delta 43), pack-reused 0\u001b[K\n",
            "Receiving objects: 100% (190/190), 1.45 MiB | 6.14 MiB/s, done.\n",
            "Resolving deltas: 100% (108/108), done.\n"
          ]
        }
      ],
      "source": [
        "%load_ext autoreload\n",
        "%autoreload 2\n",
        "# uncomment the following lines to run the notebook on colab\n",
        "!git clone https://github.com/abecode/emo20q\n",
        "import sys\n",
        "sys.path.append(\"emo20q\")"
      ]
    },
    {
      "cell_type": "markdown",
      "id": "similar-integration",
      "metadata": {
        "id": "similar-integration"
      },
      "source": [
        "# load human-human data"
      ]
    },
    {
      "cell_type": "code",
      "execution_count": 10,
      "id": "intended-sperm",
      "metadata": {
        "id": "intended-sperm"
      },
      "outputs": [],
      "source": [
        "from emo20q.gamedata import HumanHumanTournament\n",
        "hht = HumanHumanTournament()"
      ]
    },
    {
      "cell_type": "code",
      "execution_count": 12,
      "id": "pregnant-association",
      "metadata": {
        "id": "pregnant-association",
        "outputId": "ee88dfa9-01e3-4fb2-f06c-e85b78bca4a7",
        "colab": {
          "base_uri": "https://localhost:8080/"
        }
      },
      "outputs": [
        {
          "output_type": "execute_result",
          "data": {
            "text/plain": [
              "110"
            ]
          },
          "metadata": {},
          "execution_count": 12
        }
      ],
      "source": [
        "# how many human matches/games are there?\n",
        "len(hht.matches)"
      ]
    },
    {
      "cell_type": "code",
      "execution_count": 6,
      "id": "german-trade",
      "metadata": {
        "id": "german-trade",
        "outputId": "efb6d595-164a-49cb-9064-a31ed4488973",
        "colab": {
          "base_uri": "https://localhost:8080/"
        }
      },
      "outputs": [
        {
          "output_type": "stream",
          "name": "stdout",
          "text": [
            "Questioner: is it humorous one?\n",
            "Answerer:   no, serious.\n",
            "\n",
            "Questioner: kind of a nightmare?\n",
            "Answerer:   no, not at all\n",
            "\n",
            "Questioner: is it associated with sadness\n",
            "Answerer:   no\n",
            "\n",
            "Questioner: would you feel this in a helpless situation?\n",
            "Answerer:   no... that's number 4.\n",
            "\n",
            "Questioner: desperate\n",
            "Answerer:   no\n",
            "\n",
            "Questioner: devotion kind?\n",
            "Answerer:   no.  It can be, but not necessarily\n",
            "\n",
            "Questioner: I have to get out. what is it?\n",
            "Answerer:   okay... it's \"thankful\"\n",
            "\n"
          ]
        }
      ],
      "source": [
        "# examine match n\n",
        "n = 10\n",
        "match = hht.matches[n]\n",
        "for t in match.turns:\n",
        "    print(f\"Questioner: {t.q}\")\n",
        "    print(f\"Answerer:   {t.a}\")\n",
        "    print()\n",
        "          "
      ]
    },
    {
      "cell_type": "code",
      "execution_count": 14,
      "id": "quantitative-heath",
      "metadata": {
        "id": "quantitative-heath",
        "outputId": "1f183fde-d719-496b-d17e-3063695df26f",
        "colab": {
          "base_uri": "https://localhost:8080/"
        }
      },
      "outputs": [
        {
          "output_type": "stream",
          "name": "stdout",
          "text": [
            "Questioner: is it your current emotional state?\n",
            "  qgloss:e==self.currentState\n",
            "Answerer:   no, although I try to stay somewhat close to it.\n",
            "  agloss:no,clarification\n",
            "\n",
            "Questioner: is it a long sustaining emotion?\n",
            "  qgloss:e.duration==long\n",
            "Answerer:   yes\n",
            "  agloss:yes\n",
            "\n",
            "Questioner: or an aspirational emotion?\n",
            "  qgloss:aspiration(e)\n",
            "Answerer:   that too.\n",
            "  agloss:yes\n",
            "\n",
            "Questioner: Do you need someone to pull this emotion out of you\n",
            "or evoke it?\n",
            "if so, who is it?\n",
            "  qgloss:necessary(cause(otherPerson,e))\n",
            "Answerer:   it can help.... you don't need someone, but it can help.  I think it could be slightly contagious.\n",
            "  agloss:possible:yes,necessary:no,clarification\n",
            "\n",
            "Questioner: is the emotion a type of or related to content\n",
            "or zen\n",
            "contentment (is that a word?_)\n",
            "  qgloss:subset(e,zenContentment)||similar(e,zenContentment)\n",
            "Answerer:   kind of  related to contentment\n",
            "  agloss:hedge:yes,similarity\n",
            "\n",
            "Questioner: is it a word that an eighth grader would know?\n",
            "  qgloss:adolescent.know(e)\n",
            "Answerer:   good question!  yes, they should know the word (but it's not applied to them)\n",
            "  agloss:cheer,yes,clarification\n",
            "\n",
            "Questioner: serene?\n",
            "  qgloss:e==serenity\n",
            "Answerer:   close.\n",
            "  agloss:no,close\n",
            "\n",
            "Questioner: stoned? :D\n",
            "  qgloss:e==stoned\n",
            "Answerer:   depends on the eight grader :)\n",
            "j/k no...\n",
            "  agloss:no,humor\n",
            "\n",
            "Questioner: does the word function or can be conjugated as anything eles?\n",
            "i.e. can it be a verb too?\n",
            "  qgloss:possible(verb(e))\n",
            "Answerer:   Interesting question.  It can be a verb as well as an adjective\n",
            "  agloss:cheer,yes,clarification\n",
            "\n",
            "Questioner: relaxed\n",
            "  qgloss:e==relaxed\n",
            "Answerer:   pretty close...\n",
            "  agloss:no,close\n",
            "\n",
            "Questioner: relieved?\n",
            "relief\n",
            "  qgloss:e==relief\n",
            "Answerer:   nope, colder\n",
            "  agloss:no,hint\n",
            "\n",
            "Questioner: did we already say calm?\n",
            "  qgloss:e==calm\n",
            "Answerer:   you got it!\n",
            "Good job :)\n",
            "  agloss:yes,done,cheer\n",
            "\n"
          ]
        }
      ],
      "source": [
        "# check out semantic annotations/glosses\n",
        "n = 5\n",
        "match = hht.matches[n]\n",
        "for t in match.turns:\n",
        "    print(f\"Questioner: {t.q}\")\n",
        "    print(f\"  qgloss:{t.qgloss}\")\n",
        "    print(f\"Answerer:   {t.a}\")\n",
        "    print(f\"  agloss:{t.agloss}\")\n",
        "    print()\n",
        "    "
      ]
    },
    {
      "cell_type": "code",
      "execution_count": 18,
      "id": "clinical-witch",
      "metadata": {
        "id": "clinical-witch",
        "outputId": "a876e4ae-7688-4bc7-d542-eaa361b53cdf",
        "colab": {
          "base_uri": "https://localhost:8080/"
        }
      },
      "outputs": [
        {
          "output_type": "stream",
          "name": "stdout",
          "text": [
            "the emotion of this match was: thankfulness\n",
            "it started at 2011-02-14 16:04:52\n",
            "this match had 9 questions\n",
            "the outcome was: failure/giveup\n"
          ]
        }
      ],
      "source": [
        "# examine match-level info\n",
        "n = 10\n",
        "match = hht.matches[n]\n",
        "print(f\"the emotion of this match was: {match.emotion}\")\n",
        "print(f\"it started at {match.start}\")\n",
        "print(f\"this match had {match.numquestions} questions\")\n",
        "print(f\"the outcome was: {match.outcome}\")\n",
        "#dir(match)"
      ]
    },
    {
      "cell_type": "code",
      "execution_count": 19,
      "id": "planned-exclusion",
      "metadata": {
        "id": "planned-exclusion",
        "outputId": "b6f228c3-69aa-4edd-efcf-3d12f5e8bc8a",
        "colab": {
          "base_uri": "https://localhost:8080/"
        }
      },
      "outputs": [
        {
          "output_type": "execute_result",
          "data": {
            "text/plain": [
              "['admiration',\n",
              " 'adoration',\n",
              " 'affection',\n",
              " 'affection/love',\n",
              " 'amusement',\n",
              " 'anger',\n",
              " 'annoyance',\n",
              " 'annoyance/irritated',\n",
              " 'anxiety',\n",
              " 'apathy/uninterested',\n",
              " 'awe',\n",
              " 'boredom',\n",
              " 'bravery',\n",
              " 'calm',\n",
              " 'cheerfulness',\n",
              " 'confidence',\n",
              " 'confusion',\n",
              " 'contempt',\n",
              " 'contentment',\n",
              " 'contentment/calm',\n",
              " 'depression',\n",
              " 'depression/misery',\n",
              " 'devastation',\n",
              " 'disappointment',\n",
              " 'disgust',\n",
              " 'dread/hopelessness',\n",
              " 'eagerness/determination',\n",
              " 'embarrassment',\n",
              " 'enthusiasm',\n",
              " 'enthusiasm/eagerness',\n",
              " 'envy',\n",
              " 'envy/jealousy',\n",
              " 'exasperation',\n",
              " 'excitement',\n",
              " 'exhaustion',\n",
              " 'exhilaration/thrill',\n",
              " 'fear/distress',\n",
              " 'fear/scared',\n",
              " 'frustration',\n",
              " 'fury',\n",
              " 'glee',\n",
              " 'gratefulness',\n",
              " 'grumpiness',\n",
              " 'guilt',\n",
              " 'guilt/regret',\n",
              " 'happiness',\n",
              " 'helpless',\n",
              " 'hope',\n",
              " 'hope/feelingLucky',\n",
              " 'insecurity/shyness',\n",
              " 'jealousy',\n",
              " 'jealousy/envy',\n",
              " 'joy',\n",
              " 'loneliness',\n",
              " 'love',\n",
              " 'mad/anger',\n",
              " 'melancholy',\n",
              " 'pity/sympathy',\n",
              " 'pride',\n",
              " 'proud',\n",
              " 'regret',\n",
              " 'relief',\n",
              " 'sadness',\n",
              " 'satisfaction',\n",
              " 'serenity',\n",
              " 'shame',\n",
              " 'shock',\n",
              " 'shyness',\n",
              " 'silly',\n",
              " 'soberness',\n",
              " 'sorrow/sadness',\n",
              " 'stress',\n",
              " 'suffering',\n",
              " 'surprise',\n",
              " 'tense/uncomfortable',\n",
              " 'terror',\n",
              " 'thankfulness',\n",
              " 'thrill',\n",
              " 'thrill/entrancement',\n",
              " 'tiredness',\n",
              " 'wariness',\n",
              " 'worry',\n",
              " 'worry/anxiety',\n",
              " 'worry/scared']"
            ]
          },
          "metadata": {},
          "execution_count": 19
        }
      ],
      "source": [
        "emotions = set([m.emotion for m in hht.matches])\n",
        "sorted(emotions)\n",
        "# slashes denote when an answerer settled for a synonym"
      ]
    },
    {
      "cell_type": "markdown",
      "id": "absent-reliance",
      "metadata": {
        "id": "absent-reliance"
      },
      "source": [
        "***\n",
        "\n",
        "# load human-computer pilot data"
      ]
    },
    {
      "cell_type": "code",
      "execution_count": 20,
      "id": "regular-sociology",
      "metadata": {
        "id": "regular-sociology"
      },
      "outputs": [],
      "source": [
        "from emo20q.gamedata import HumanComputerTournament\n",
        "hct = HumanComputerTournament()"
      ]
    },
    {
      "cell_type": "code",
      "execution_count": 21,
      "id": "charming-angel",
      "metadata": {
        "id": "charming-angel",
        "outputId": "e24ebec6-d358-43ec-a478-dbbbadc2e899",
        "colab": {
          "base_uri": "https://localhost:8080/"
        }
      },
      "outputs": [
        {
          "output_type": "execute_result",
          "data": {
            "text/plain": [
              "110"
            ]
          },
          "metadata": {},
          "execution_count": 21
        }
      ],
      "source": [
        "# how many human matches/games are there?\n",
        "len(hct.matches)"
      ]
    },
    {
      "cell_type": "markdown",
      "id": "convertible-collectible",
      "metadata": {
        "id": "convertible-collectible"
      },
      "source": [
        "kind of odd that it's the same number of turns as before, but the data is different..."
      ]
    },
    {
      "cell_type": "code",
      "execution_count": 22,
      "id": "embedded-spice",
      "metadata": {
        "id": "embedded-spice",
        "outputId": "70123678-06bc-4541-ef0d-b53d1046878e",
        "colab": {
          "base_uri": "https://localhost:8080/"
        }
      },
      "outputs": [
        {
          "output_type": "stream",
          "name": "stdout",
          "text": [
            "Questioner: e.valence==positive\n",
            "Answerer:   No.\n",
            "\n"
          ]
        }
      ],
      "source": [
        "# examine match n\n",
        "n = 10\n",
        "match = hct.matches[n]\n",
        "for t in match.turns:\n",
        "    print(f\"Questioner: {t.qgloss}\")\n",
        "    print(f\"Answerer:   {t.a}\")\n",
        "    print()"
      ]
    },
    {
      "cell_type": "markdown",
      "id": "damaged-northwest",
      "metadata": {
        "id": "damaged-northwest"
      },
      "source": [
        "Note: the actual question text was not recorded in the pilot, just the underlying semantic gloss\n",
        "\n",
        "Also, for some reason, this just had one turn (maybe a lucky guess or bad data)"
      ]
    },
    {
      "cell_type": "code",
      "execution_count": 23,
      "id": "floral-saudi",
      "metadata": {
        "id": "floral-saudi",
        "outputId": "79e2ac8b-123f-4f13-e07b-c53a94d9a18d",
        "colab": {
          "base_uri": "https://localhost:8080/"
        }
      },
      "outputs": [
        {
          "output_type": "stream",
          "name": "stdout",
          "text": [
            "0 60\n",
            "\n",
            "1 21\n",
            "\n",
            "2 11\n",
            "\n",
            "3 21\n",
            "\n",
            "4 21\n",
            "\n",
            "5 21\n",
            "\n",
            "6 22\n",
            "\n",
            "7 5\n",
            "\n",
            "8 1\n",
            "\n",
            "9 1\n",
            "\n",
            "10 1\n",
            "\n",
            "11 1\n",
            "\n",
            "12 1\n",
            "\n",
            "13 2\n",
            "\n",
            "14 1\n",
            "\n",
            "15 2\n",
            "\n",
            "16 1\n",
            "\n",
            "17 4\n",
            "\n",
            "18 1\n",
            "\n",
            "19 3\n",
            "\n",
            "20 1\n",
            "\n",
            "21 2\n",
            "\n",
            "22 1\n",
            "\n",
            "23 1\n",
            "\n",
            "24 13\n",
            "\n",
            "25 20\n",
            "\n",
            "26 20\n",
            "\n",
            "27 21\n",
            "\n",
            "28 22\n",
            "\n",
            "29 21\n",
            "\n",
            "30 21\n",
            "\n",
            "31 11\n",
            "\n",
            "32 13\n",
            "\n",
            "33 11\n",
            "\n",
            "34 21\n",
            "\n",
            "35 18\n",
            "\n",
            "36 10\n",
            "\n",
            "37 21\n",
            "\n",
            "38 21\n",
            "\n",
            "39 14\n",
            "\n",
            "40 21\n",
            "\n",
            "41 12\n",
            "\n",
            "42 15\n",
            "\n",
            "43 21\n",
            "\n",
            "44 18\n",
            "\n",
            "45 16\n",
            "\n",
            "46 21\n",
            "\n",
            "47 21\n",
            "\n",
            "48 12\n",
            "\n",
            "49 12\n",
            "\n",
            "50 21\n",
            "\n",
            "51 21\n",
            "\n",
            "52 21\n",
            "\n",
            "53 21\n",
            "\n",
            "54 21\n",
            "\n",
            "55 21\n",
            "\n",
            "56 12\n",
            "\n",
            "57 14\n",
            "\n",
            "58 18\n",
            "\n",
            "59 42\n",
            "\n",
            "60 21\n",
            "\n",
            "61 21\n",
            "\n",
            "62 21\n",
            "\n",
            "63 21\n",
            "\n",
            "64 21\n",
            "\n",
            "65 15\n",
            "\n",
            "66 21\n",
            "\n",
            "67 16\n",
            "\n",
            "68 21\n",
            "\n",
            "69 21\n",
            "\n",
            "70 11\n",
            "\n",
            "71 12\n",
            "\n",
            "72 21\n",
            "\n",
            "73 21\n",
            "\n",
            "74 21\n",
            "\n",
            "75 11\n",
            "\n",
            "76 13\n",
            "\n",
            "77 15\n",
            "\n",
            "78 17\n",
            "\n",
            "79 21\n",
            "\n",
            "80 16\n",
            "\n",
            "81 14\n",
            "\n",
            "82 40\n",
            "\n",
            "83 16\n",
            "\n",
            "84 21\n",
            "\n",
            "85 34\n",
            "\n",
            "86 1\n",
            "\n",
            "87 4\n",
            "\n",
            "88 30\n",
            "\n",
            "89 21\n",
            "\n",
            "90 21\n",
            "\n",
            "91 21\n",
            "\n",
            "92 20\n",
            "\n",
            "93 21\n",
            "\n",
            "94 21\n",
            "\n",
            "95 21\n",
            "\n",
            "96 21\n",
            "\n",
            "97 21\n",
            "\n",
            "98 19\n",
            "\n",
            "99 21\n",
            "\n",
            "100 21\n",
            "\n",
            "101 11\n",
            "\n",
            "102 21\n",
            "\n",
            "103 22\n",
            "\n",
            "104 19\n",
            "\n",
            "105 16\n",
            "\n",
            "106 21\n",
            "\n",
            "107 44\n",
            "\n",
            "108 16\n",
            "\n",
            "109 1\n",
            "\n"
          ]
        }
      ],
      "source": [
        "# some of the matches have too many turns\n",
        "for i, m in enumerate(hct.matches):\n",
        "    print(i, len(m.turns))\n",
        "    print()"
      ]
    },
    {
      "cell_type": "code",
      "source": [],
      "metadata": {
        "id": "ODNVwwIk6jmv"
      },
      "id": "ODNVwwIk6jmv",
      "execution_count": 27,
      "outputs": []
    },
    {
      "cell_type": "code",
      "source": [],
      "metadata": {
        "id": "q1VMk3U36ja-"
      },
      "id": "q1VMk3U36ja-",
      "execution_count": 27,
      "outputs": []
    },
    {
      "cell_type": "code",
      "execution_count": 28,
      "id": "innovative-badge",
      "metadata": {
        "id": "innovative-badge",
        "outputId": "282bff85-cc0d-4497-eee1-e66c7dc13f0f",
        "colab": {
          "base_uri": "https://localhost:8080/"
        }
      },
      "outputs": [
        {
          "output_type": "stream",
          "name": "stdout",
          "text": [
            "the emotion of this match was: anger\n"
          ]
        },
        {
          "output_type": "execute_result",
          "data": {
            "text/plain": [
              "['__class__',\n",
              " '__delattr__',\n",
              " '__dict__',\n",
              " '__dir__',\n",
              " '__doc__',\n",
              " '__eq__',\n",
              " '__format__',\n",
              " '__ge__',\n",
              " '__getattribute__',\n",
              " '__gt__',\n",
              " '__hash__',\n",
              " '__init__',\n",
              " '__init_subclass__',\n",
              " '__le__',\n",
              " '__lt__',\n",
              " '__module__',\n",
              " '__ne__',\n",
              " '__new__',\n",
              " '__reduce__',\n",
              " '__reduce_ex__',\n",
              " '__repr__',\n",
              " '__setattr__',\n",
              " '__sizeof__',\n",
              " '__str__',\n",
              " '__subclasshook__',\n",
              " '__weakref__',\n",
              " 'emotion',\n",
              " 'readTurns',\n",
              " 'turns']"
            ]
          },
          "metadata": {},
          "execution_count": 28
        }
      ],
      "source": [
        "# examine match-level info\n",
        "n = 10\n",
        "match = hct.matches[n]\n",
        "print(f\"the emotion of this match was: {match.emotion}\")\n",
        "#print(f\"this match had {match.numquestions} questions\")\n",
        "#print(f\"the outcome was: {match._outcome}\")\n",
        "# doesn't have questions or outcome\n",
        "dir(match)"
      ]
    },
    {
      "cell_type": "code",
      "execution_count": 33,
      "id": "collective-surname",
      "metadata": {
        "id": "collective-surname",
        "outputId": "cd440198-b373-440b-99bb-302e327964a9",
        "colab": {
          "base_uri": "https://localhost:8080/"
        }
      },
      "outputs": [
        {
          "output_type": "execute_result",
          "data": {
            "text/plain": [
              "['acting',\n",
              " 'agitation',\n",
              " 'anger',\n",
              " 'annoyed',\n",
              " 'apathy',\n",
              " 'cheerfulness',\n",
              " 'confusion',\n",
              " 'depression',\n",
              " 'disappointment',\n",
              " 'disgust',\n",
              " 'dissatisfied',\n",
              " 'dumbfounded',\n",
              " 'elation',\n",
              " 'embarrassment',\n",
              " 'envy',\n",
              " 'euphoria',\n",
              " 'excited',\n",
              " 'excitement',\n",
              " 'fear',\n",
              " 'frustration',\n",
              " 'fury',\n",
              " 'happiness',\n",
              " 'hatred',\n",
              " 'hope',\n",
              " 'hostility',\n",
              " 'jealousy',\n",
              " 'jilted',\n",
              " 'let down',\n",
              " 'love',\n",
              " 'lust',\n",
              " 'nervousness',\n",
              " 'nostalgia',\n",
              " 'nothing',\n",
              " 'obsession',\n",
              " 'pride',\n",
              " 'proud',\n",
              " 'regret',\n",
              " 'relaxation',\n",
              " 'remorse',\n",
              " 'resentment',\n",
              " 'sadness',\n",
              " 'sarcasm',\n",
              " 'sorrow',\n",
              " 'surprise',\n",
              " 'suspicion',\n",
              " 'thankfulness/gratefulness',\n",
              " 'tiredness']"
            ]
          },
          "metadata": {},
          "execution_count": 33
        }
      ],
      "source": [
        "emotions = set([m.emotion for m in hct.matches])\n",
        "sorted(emotions)"
      ]
    },
    {
      "cell_type": "markdown",
      "id": "theoretical-competition",
      "metadata": {
        "id": "theoretical-competition"
      },
      "source": [
        "***\n",
        "# load human-computer mturk data"
      ]
    },
    {
      "cell_type": "code",
      "execution_count": 34,
      "id": "color-management",
      "metadata": {
        "id": "color-management",
        "outputId": "0378328f-49a1-4353-a37f-005e4784e4f9",
        "colab": {
          "base_uri": "https://localhost:8080/"
        }
      },
      "outputs": [
        {
          "output_type": "execute_result",
          "data": {
            "text/plain": [
              "349"
            ]
          },
          "metadata": {},
          "execution_count": 34
        }
      ],
      "source": [
        "from emo20q.gamedata import HumanComputerCouchJsonTournament\n",
        "hcmt = HumanComputerCouchJsonTournament()\n",
        "len(hcmt.matches)"
      ]
    },
    {
      "cell_type": "code",
      "execution_count": 43,
      "id": "broke-massage",
      "metadata": {
        "id": "broke-massage",
        "outputId": "6cbc9c01-a0c2-49cd-a4e8-6011b924a9a5",
        "colab": {
          "base_uri": "https://localhost:8080/"
        }
      },
      "outputs": [
        {
          "output_type": "stream",
          "name": "stdout",
          "text": [
            "melancholy\n",
            "\n",
            "Questioner: Ok, let me see here... \n",
            "ok, is it a positive emotion?\n",
            "  qgloss:e.valence==positive\n",
            "Answerer:   no\n",
            "  agloss:no\n",
            "\n",
            "Questioner: ok is it a negative emotion?\n",
            "  qgloss:e.valence==negative\n",
            "Answerer:   yes\n",
            "  agloss:yes\n",
            "\n",
            "Questioner: is it active?\n",
            "  qgloss:e.activation==high\n",
            "Answerer:   no\n",
            "  agloss:no\n",
            "\n",
            "Questioner: can you also feel the emotion about yourself?\n",
            "  qgloss:directed(e,self)\n",
            "Answerer:   yes\n",
            "  agloss:yes\n",
            "\n",
            "Questioner: is it an emotion that lasts a long time, generally? 4\n",
            "  qgloss:e.duration==long\n",
            "Answerer:   yes\n",
            "  agloss:yes\n",
            "\n",
            "Questioner: is it depression?\n",
            "  qgloss:e==depression\n",
            "Answerer:   no\n",
            "  agloss:no\n",
            "\n",
            "Questioner: is it frustrated?\n",
            "  qgloss:e==frustration\n",
            "Answerer:   no\n",
            "  agloss:no\n",
            "\n",
            "Questioner: is it sadness?\n",
            "  qgloss:e==sadness\n",
            "Answerer:   yes\n",
            "  agloss:yes\n",
            "\n",
            "Questioner: hmm, is it confused?\n",
            "  qgloss:e==confusion\n",
            "Answerer:   no\n",
            "  agloss:no\n",
            "\n",
            "Questioner: is it obsession?\n",
            "  qgloss:e==obsession\n",
            "Answerer:   no\n",
            "  agloss:no\n",
            "\n",
            "Questioner: is it disgust?\n",
            "  qgloss:e==disgust\n",
            "Answerer:   no\n",
            "  agloss:no\n",
            "\n",
            "Questioner: is it apathy?\n",
            "  qgloss:e==apathy\n",
            "Answerer:   no\n",
            "  agloss:no\n",
            "\n",
            "Questioner: is it dissappointment?\n",
            "  qgloss:e==disappointment\n",
            "Answerer:   no\n",
            "  agloss:no\n",
            "\n",
            "Questioner: is it similar to anger?\n",
            "  qgloss:similar(e,anger)\n",
            "Answerer:   no\n",
            "  agloss:no\n",
            "\n",
            "Questioner: does it happen after nasty surprise?\n",
            "  qgloss:situation(e,afterNastySurprise)\n",
            "Answerer:   no\n",
            "  agloss:no\n",
            "\n",
            "Questioner: is it caused by something in particular (as opposed to just popping up)?\n",
            "  qgloss:cause(something,e)\n",
            "Answerer:   no\n",
            "  agloss:no\n",
            "\n",
            "Questioner: lets see... is it similar to happiness?\n",
            "  qgloss:similar(e,happiness)\n",
            "Answerer:   no\n",
            "  agloss:no\n",
            "\n",
            "Questioner: can it be associated with happiness?\n",
            "  qgloss:associated(e,happiness)\n",
            "Answerer:   no\n",
            "  agloss:no\n",
            "\n",
            "Questioner: fear?\n",
            "  qgloss:e==fear\n",
            "Answerer:   no\n",
            "  agloss:no\n",
            "\n",
            "Questioner: anger?\n",
            "  qgloss:e==anger\n",
            "Answerer:   no\n",
            "  agloss:no\n",
            "\n"
          ]
        }
      ],
      "source": [
        "# check out semantic annotations/glosses\n",
        "n = 10\n",
        "match = hcmt.matches[n]\n",
        "print(match.emotion)\n",
        "print()\n",
        "emptystr = ''\n",
        "for t in match.turns:\n",
        "    print(f\"Questioner: {getattr(t, 'q', '')}\")\n",
        "    print(f\"  qgloss:{t.qgloss}\")\n",
        "    print(f\"Answerer:   {t.a}\")\n",
        "    print(f\"  agloss:{getattr(t, 'agloss', '')}\")\n",
        "    print()\n",
        "    \n",
        "# note, the a gloss is not included, it's actually in the json data as \"null\""
      ]
    },
    {
      "cell_type": "code",
      "execution_count": 42,
      "id": "celtic-pipeline",
      "metadata": {
        "id": "celtic-pipeline",
        "outputId": "f6fcd35c-e00f-418a-850d-c8e125b791ff",
        "colab": {
          "base_uri": "https://localhost:8080/"
        }
      },
      "outputs": [
        {
          "output_type": "execute_result",
          "data": {
            "text/plain": [
              "['__class__',\n",
              " '__delattr__',\n",
              " '__dict__',\n",
              " '__dir__',\n",
              " '__doc__',\n",
              " '__eq__',\n",
              " '__format__',\n",
              " '__ge__',\n",
              " '__getattribute__',\n",
              " '__gt__',\n",
              " '__hash__',\n",
              " '__init__',\n",
              " '__init_subclass__',\n",
              " '__le__',\n",
              " '__lt__',\n",
              " '__module__',\n",
              " '__ne__',\n",
              " '__new__',\n",
              " '__reduce__',\n",
              " '__reduce_ex__',\n",
              " '__repr__',\n",
              " '__setattr__',\n",
              " '__sizeof__',\n",
              " '__str__',\n",
              " '__subclasshook__',\n",
              " '__weakref__',\n",
              " 'emotion',\n",
              " 'readTurns',\n",
              " 'turns']"
            ]
          },
          "metadata": {},
          "execution_count": 42
        }
      ],
      "source": [
        "# examine match-level info\n",
        "n = 10\n",
        "match = hcmt.matches[n]\n",
        "# print(f\"the emotion of this match was: {match._emotion}\")\n",
        "#print(f\"this match had {match._questions} questions\")\n",
        "#print(f\"the outcome was: {match._outcome}\")\n",
        "# doesn't have questions or outcome: outcome was checked manually in the data collection in mturk interface \n",
        "# and by experimenters\n",
        "dir(match)"
      ]
    },
    {
      "cell_type": "code",
      "execution_count": 46,
      "id": "hollow-version",
      "metadata": {
        "id": "hollow-version",
        "outputId": "5c4ae771-a416-4c0b-c687-cbb9d541c078",
        "colab": {
          "base_uri": "https://localhost:8080/"
        }
      },
      "outputs": [
        {
          "output_type": "execute_result",
          "data": {
            "text/plain": [
              "['accepting',\n",
              " 'aggravation',\n",
              " 'agitation',\n",
              " 'alienation',\n",
              " 'ambiguity',\n",
              " 'ambivalence',\n",
              " 'anger',\n",
              " 'angry',\n",
              " 'annoyance',\n",
              " 'anxiety',\n",
              " 'apathy',\n",
              " 'astounded',\n",
              " 'avarice',\n",
              " 'aversion',\n",
              " 'being appalled',\n",
              " 'boredom',\n",
              " 'bravery',\n",
              " 'caring',\n",
              " 'coldness',\n",
              " 'concern',\n",
              " 'conflicted',\n",
              " 'confusion',\n",
              " 'content',\n",
              " 'contentment',\n",
              " 'courage',\n",
              " 'curiosity',\n",
              " 'delight',\n",
              " 'delirium',\n",
              " 'depression',\n",
              " 'despise',\n",
              " 'disappointment',\n",
              " 'discontentment',\n",
              " 'disgust',\n",
              " 'disillusionment',\n",
              " 'dissatisfied',\n",
              " 'distress',\n",
              " 'downcast',\n",
              " 'downtrodden',\n",
              " 'ecstasy',\n",
              " 'educated',\n",
              " 'elation',\n",
              " 'embarrassment',\n",
              " 'empathy',\n",
              " 'enamored',\n",
              " 'energetic',\n",
              " 'enjoyment',\n",
              " 'envy',\n",
              " 'euphoria',\n",
              " 'excitement',\n",
              " 'exhaustion',\n",
              " 'exotic',\n",
              " 'exuberance',\n",
              " 'failure',\n",
              " 'fear',\n",
              " 'frustration',\n",
              " 'fury',\n",
              " 'happiness',\n",
              " 'hate',\n",
              " 'hatred',\n",
              " 'hope',\n",
              " 'hostility',\n",
              " 'hunger',\n",
              " 'indifference',\n",
              " 'infuriation',\n",
              " 'inquisitiveness',\n",
              " 'inspiration',\n",
              " 'introspection',\n",
              " 'irritation',\n",
              " 'jealousy',\n",
              " 'joy',\n",
              " 'joyfulness',\n",
              " 'jubilance',\n",
              " 'loneliness',\n",
              " 'love',\n",
              " 'loved',\n",
              " 'lust',\n",
              " 'mad',\n",
              " 'mania',\n",
              " 'maniacal',\n",
              " 'maudlin',\n",
              " 'melancholy',\n",
              " 'mischievous',\n",
              " 'misery',\n",
              " 'morose',\n",
              " 'nervousness',\n",
              " 'nostalgia',\n",
              " 'outrage',\n",
              " 'overwhelmed',\n",
              " 'patience',\n",
              " 'perplexity',\n",
              " 'pessimism',\n",
              " 'pity',\n",
              " 'playfulness',\n",
              " 'pleasure',\n",
              " 'quixotic',\n",
              " 'relaxation',\n",
              " 'remorse',\n",
              " 'resentment',\n",
              " 'respect',\n",
              " 'sadness',\n",
              " 'satisfaction',\n",
              " 'serenity',\n",
              " 'shame',\n",
              " 'sleepiness',\n",
              " 'stress',\n",
              " 'stupor',\n",
              " 'suffering',\n",
              " 'suicidal',\n",
              " 'surprise',\n",
              " 'thrill',\n",
              " 'tiredness',\n",
              " 'unsure',\n",
              " 'upset',\n",
              " 'worry']"
            ]
          },
          "metadata": {},
          "execution_count": 46
        }
      ],
      "source": [
        "emotions = set([m.emotion for m in hcmt.matches])\n",
        "sorted(emotions)"
      ]
    }
  ],
  "metadata": {
    "kernelspec": {
      "display_name": "Python 3",
      "language": "python",
      "name": "python3"
    },
    "language_info": {
      "codemirror_mode": {
        "name": "ipython",
        "version": 3
      },
      "file_extension": ".py",
      "mimetype": "text/x-python",
      "name": "python",
      "nbconvert_exporter": "python",
      "pygments_lexer": "ipython3",
      "version": "3.7.9"
    },
    "colab": {
      "provenance": []
    }
  },
  "nbformat": 4,
  "nbformat_minor": 5
}